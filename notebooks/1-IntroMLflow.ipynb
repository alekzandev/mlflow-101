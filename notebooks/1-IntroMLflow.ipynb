{
 "cells": [
  {
   "attachments": {},
   "cell_type": "markdown",
   "metadata": {},
   "source": [
    "# MLflow fundamentals\n",
    "\n",
    "## Tracking\n",
    "\n",
    "**Author:** Alekzandev\n",
    "\n",
    "MLflow fundamentals for MLOps Engineering"
   ]
  },
  {
   "cell_type": "code",
   "execution_count": 1,
   "metadata": {},
   "outputs": [],
   "source": [
    "import mlflow\n",
    "import logging"
   ]
  },
  {
   "cell_type": "code",
   "execution_count": 2,
   "metadata": {},
   "outputs": [],
   "source": [
    "logging.basicConfig(level=logging.DEBUG)\n",
    "logger = logging.getLogger(__name__)"
   ]
  },
  {
   "cell_type": "markdown",
   "metadata": {},
   "source": [
    "## Set Experiment Tracking"
   ]
  },
  {
   "cell_type": "markdown",
   "metadata": {},
   "source": []
  },
  {
   "cell_type": "code",
   "execution_count": 3,
   "metadata": {},
   "outputs": [
    {
     "name": "stderr",
     "output_type": "stream",
     "text": [
      "2024/11/02 00:51:52 INFO mlflow.tracking.fluent: Experiment with name 'my_first_experiment' does not exist. Creating a new experiment.\n"
     ]
    },
    {
     "name": "stdout",
     "output_type": "stream",
     "text": [
      "<class 'mlflow.entities.experiment.Experiment'>\n"
     ]
    }
   ],
   "source": [
    "experiment_name = \"my_first_experiment\"\n",
    "experiment = mlflow.set_experiment(experiment_name=experiment_name)\n",
    "print(type(experiment))"
   ]
  },
  {
   "cell_type": "code",
   "execution_count": 4,
   "metadata": {},
   "outputs": [
    {
     "data": {
      "text/plain": [
       "'file:///Users/javallejos/projects/mlflow-101/notebooks/mlruns/756576786171264160'"
      ]
     },
     "execution_count": 4,
     "metadata": {},
     "output_type": "execute_result"
    }
   ],
   "source": [
    "experiment.artifact_location"
   ]
  },
  {
   "cell_type": "code",
   "execution_count": 5,
   "metadata": {},
   "outputs": [
    {
     "data": {
      "text/plain": [
       "1730526712556"
      ]
     },
     "execution_count": 5,
     "metadata": {},
     "output_type": "execute_result"
    }
   ],
   "source": [
    "experiment.creation_time"
   ]
  },
  {
   "cell_type": "code",
   "execution_count": 6,
   "metadata": {},
   "outputs": [
    {
     "data": {
      "text/plain": [
       "'756576786171264160'"
      ]
     },
     "execution_count": 6,
     "metadata": {},
     "output_type": "execute_result"
    }
   ],
   "source": [
    "experiment.experiment_id"
   ]
  },
  {
   "cell_type": "code",
   "execution_count": 8,
   "metadata": {},
   "outputs": [
    {
     "name": "stderr",
     "output_type": "stream",
     "text": [
      "INFO:__main__:Hello, MLflow!\n"
     ]
    }
   ],
   "source": [
    "with mlflow.start_run(experiment_id=experiment.experiment_id):\n",
    "    mlflow.log_param(\"my_param\", 1)\n",
    "    logger.info(\"Hello, MLflow!\")\n",
    "    mlflow.log_metric(\"my_metric\", 2)\n",
    "    mlflow.log_artifact(\"1-IntroMLflow.ipynb\")"
   ]
  },
  {
   "cell_type": "code",
   "execution_count": 9,
   "metadata": {},
   "outputs": [
    {
     "name": "stdout",
     "output_type": "stream",
     "text": [
      "[2024-11-02 00:53:09 -0500] [14242] [INFO] Starting gunicorn 23.0.0\n",
      "[2024-11-02 00:53:09 -0500] [14242] [INFO] Listening at: http://127.0.0.1:5000 (14242)\n",
      "[2024-11-02 00:53:09 -0500] [14242] [INFO] Using worker: sync\n",
      "[2024-11-02 00:53:09 -0500] [14243] [INFO] Booting worker with pid: 14243\n",
      "[2024-11-02 00:53:09 -0500] [14244] [INFO] Booting worker with pid: 14244\n",
      "[2024-11-02 00:53:09 -0500] [14245] [INFO] Booting worker with pid: 14245\n",
      "[2024-11-02 00:53:09 -0500] [14246] [INFO] Booting worker with pid: 14246\n",
      "^C\n",
      "[2024-11-02 00:53:53 -0500] [14242] [INFO] Handling signal: int\n",
      "[2024-11-02 00:53:53 -0500] [14245] [INFO] Worker exiting (pid: 14245)\n",
      "[2024-11-02 00:53:53 -0500] [14244] [INFO] Worker exiting (pid: 14244)\n",
      "[2024-11-02 00:53:53 -0500] [14246] [INFO] Worker exiting (pid: 14246)\n",
      "[2024-11-02 00:53:53 -0500] [14243] [INFO] Worker exiting (pid: 14243)\n"
     ]
    }
   ],
   "source": [
    "! mlflow ui"
   ]
  },
  {
   "cell_type": "code",
   "execution_count": null,
   "metadata": {},
   "outputs": [],
   "source": []
  }
 ],
 "metadata": {
  "kernelspec": {
   "display_name": "mlflow-101-iqm-IqnF-py3.10",
   "language": "python",
   "name": "python3"
  },
  "language_info": {
   "codemirror_mode": {
    "name": "ipython",
    "version": 3
   },
   "file_extension": ".py",
   "mimetype": "text/x-python",
   "name": "python",
   "nbconvert_exporter": "python",
   "pygments_lexer": "ipython3",
   "version": "3.10.0"
  },
  "orig_nbformat": 4
 },
 "nbformat": 4,
 "nbformat_minor": 2
}
