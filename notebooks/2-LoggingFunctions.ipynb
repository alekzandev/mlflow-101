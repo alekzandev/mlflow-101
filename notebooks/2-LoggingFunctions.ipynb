{
 "cells": [
  {
   "cell_type": "markdown",
   "metadata": {},
   "source": [
    "# MLflow fundamentals\n",
    "\n",
    "## Logging Functions\n",
    "\n",
    "**Author:** Alekzandev\n",
    "\n",
    "- `set_tracking_uri(uri: str)`: Set the tracking URI to log the experiments.\n",
    "- `get_tracking_uri()`: Get the tracking URI.\n",
    "- `create_experiment(name: str)`: Create a new experiment.\n",
    "- `set_experiment(experiment_name: str)`: Set the experiment to log the runs.\n"
   ]
  },
  {
   "cell_type": "markdown",
   "metadata": {},
   "source": [
    "### `set_tracking_uri(uri: str)`"
   ]
  },
  {
   "cell_type": "code",
   "execution_count": 1,
   "metadata": {},
   "outputs": [],
   "source": [
    "import mlflow"
   ]
  },
  {
   "cell_type": "code",
   "execution_count": 2,
   "metadata": {},
   "outputs": [],
   "source": [
    "mlflow.set_tracking_uri('../experiments')"
   ]
  },
  {
   "cell_type": "code",
   "execution_count": 3,
   "metadata": {},
   "outputs": [
    {
     "name": "stderr",
     "output_type": "stream",
     "text": [
      "2024/11/03 18:01:23 INFO mlflow.tracking.fluent: Experiment with name 'my_experiment' does not exist. Creating a new experiment.\n"
     ]
    }
   ],
   "source": [
    "experiment_name = \"my_experiment\"\n",
    "experiment = mlflow.set_experiment(experiment_name=experiment_name)"
   ]
  },
  {
   "cell_type": "markdown",
   "metadata": {},
   "source": [
    "### `create_experiment(name: str)`"
   ]
  },
  {
   "cell_type": "code",
   "execution_count": 12,
   "metadata": {},
   "outputs": [],
   "source": [
    "experiment_name = \"My_Experiment\"\n",
    "mlflow.set_tracking_uri('../kink')"
   ]
  },
  {
   "cell_type": "code",
   "execution_count": 13,
   "metadata": {},
   "outputs": [],
   "source": [
    "experiment_id = mlflow.create_experiment(\n",
    "    name=experiment_name,\n",
    "    tags={\n",
    "        \"mlflow.source.name\": \"test\",\n",
    "        \"mlflow.source.type\": \"LOCAL\",\n",
    "        \"mlflow.user\": \"test\"\n",
    "    },\n",
    "    artifact_location=\"file:/Users/javallejos/projects/mlflow-101/tmp/mlflow\"\n",
    ")"
   ]
  },
  {
   "cell_type": "code",
   "execution_count": 14,
   "metadata": {},
   "outputs": [
    {
     "data": {
      "text/plain": [
       "'819210437463866343'"
      ]
     },
     "execution_count": 14,
     "metadata": {},
     "output_type": "execute_result"
    }
   ],
   "source": [
    "experiment_id"
   ]
  },
  {
   "cell_type": "code",
   "execution_count": 15,
   "metadata": {},
   "outputs": [
    {
     "data": {
      "text/plain": [
       "<Experiment: artifact_location='file:/Users/javallejos/projects/mlflow-101/tmp/mlflow', creation_time=1730674350144, experiment_id='819210437463866343', last_update_time=1730674350144, lifecycle_stage='active', name='My_Experiment', tags={'mlflow.source.name': 'test',\n",
       " 'mlflow.source.type': 'LOCAL',\n",
       " 'mlflow.user': 'test'}>"
      ]
     },
     "execution_count": 15,
     "metadata": {},
     "output_type": "execute_result"
    }
   ],
   "source": [
    "mlflow.set_experiment(experiment_id=experiment_id)"
   ]
  },
  {
   "cell_type": "code",
   "execution_count": 16,
   "metadata": {},
   "outputs": [
    {
     "data": {
      "text/plain": [
       "'../kink'"
      ]
     },
     "execution_count": 16,
     "metadata": {},
     "output_type": "execute_result"
    }
   ],
   "source": [
    "mlflow.get_tracking_uri()"
   ]
  },
  {
   "cell_type": "code",
   "execution_count": 17,
   "metadata": {},
   "outputs": [
    {
     "data": {
      "text/plain": [
       "'file:///Users/javallejos/projects/mlflow-101/tmp/mlflow/344d29fb2ec44a4eb1994a5c173409db/artifacts'"
      ]
     },
     "execution_count": 17,
     "metadata": {},
     "output_type": "execute_result"
    }
   ],
   "source": [
    "mlflow.get_artifact_uri()"
   ]
  }
 ],
 "metadata": {
  "kernelspec": {
   "display_name": "mlflow-101-iqm-IqnF-py3.10",
   "language": "python",
   "name": "python3"
  },
  "language_info": {
   "codemirror_mode": {
    "name": "ipython",
    "version": 3
   },
   "file_extension": ".py",
   "mimetype": "text/x-python",
   "name": "python",
   "nbconvert_exporter": "python",
   "pygments_lexer": "ipython3",
   "version": "3.10.0"
  }
 },
 "nbformat": 4,
 "nbformat_minor": 2
}
