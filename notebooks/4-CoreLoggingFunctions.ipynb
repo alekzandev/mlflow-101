{
 "cells": [
  {
   "cell_type": "markdown",
   "metadata": {},
   "source": [
    "# MLflow fundamentals\n",
    "\n",
    "## Core Logging Functions\n",
    "\n",
    "**Author:** Alekzandev\n",
    "\n",
    "- `mlflow.log_param()`: Logs a **single** hyperparameter as key-value pair.\n",
    "- `mlflow.log_params()`Log a **multiple** hyperparameter as key-value pair.\n",
    "  - **params**: Dictionary of param_name **String** -> **value**\n",
    "- `mlflow.log_metric()`: Logs a **single** metric as key-value pair.\n",
    "  - **key**\n",
    "  - **value**\n",
    "  - **step**: A single integer step at which to log the specified Metrics.\n",
    "- `mlflow.log_metrics()`Log a **multiple** metric as key-value pair.\n",
    "  - **metrics**: Dictionary of metric_name **String** -> **value**\n",
    "  - **step**: A single integer step at which to log the specified Metrics.\n",
    "- `mlflow.log_artifact()`: Logs a **single** artifact.\n",
    "  - **local path**: Path of the **file** that is to be stored.\n",
    "  - **artifact path**: Path to store the artifacts.\n",
    "- `mlflow.log_artifacts()`: Log a **multiple** artifact (a directory of files).\n",
    "  - **local dir**: Path of the **directory** that is to be stored.\n",
    "  - **artifact path**: Path to store the artifacts\n",
    "\n",
    "- `mlflow.set_tag()`: Set a **single** tag under the current run.\n",
    "  - **key**: Name of the tag (250 lenght allowed)\n",
    "  - **value**: Value of the tag in string format(5000 lenght allowed)\n",
    "- `mlflow.set_tags()`: Log **multiple** tags under the current run.\n",
    "  - **tags**: Dictionary of tag_name: **String** -> **value**.\n"
   ]
  },
  {
   "cell_type": "code",
   "execution_count": 1,
   "metadata": {},
   "outputs": [],
   "source": [
    "import mlflow"
   ]
  },
  {
   "cell_type": "code",
   "execution_count": 2,
   "metadata": {},
   "outputs": [],
   "source": [
    "mlflow.set_tracking_uri('../experiments')\n",
    "experiment_name = 'core_logging_functions'"
   ]
  },
  {
   "cell_type": "code",
   "execution_count": 3,
   "metadata": {},
   "outputs": [],
   "source": [
    "experiment_id = mlflow.create_experiment(\n",
    "    name=experiment_name,\n",
    "    tags={\n",
    "        \"mlflow.source.name\": \"core_logging_functions\",\n",
    "        \"mlflow.source.type\": \"NOTEBOOK\",\n",
    "        \"mlflow.user\": \"alekzandev\"\n",
    "    },\n",
    "    artifact_location=\"file:/Users/javallejos/projects/mlflow-101/models/artifacts/mlflow\"\n",
    ")"
   ]
  },
  {
   "cell_type": "markdown",
   "metadata": {},
   "source": [
    "### `mlflow.log_param()`"
   ]
  },
  {
   "cell_type": "code",
   "execution_count": 11,
   "metadata": {},
   "outputs": [],
   "source": [
    "with mlflow.start_run(\n",
    "    experiment_id=experiment_id,\n",
    "    tags={\n",
    "        \"mlflow.runName\": \"single_log_param_runner\",\n",
    "        \"mlflow.source.name\": \"4-CoreLoggingFunctions.ipynb\",\n",
    "        \"mlflow.source.type\": \"Project\",\n",
    "        \"mlflow.user\": \"alekzandev\",\n",
    "        \"mlflow.source.git.commit\": \"b2e6d7d3688136b4009fc51882492d25be438e8c\",\n",
    "        \"mlflow.source.git.branch\": \"develop\",\n",
    "    }\n",
    "    ):\n",
    "    mlflow.log_param(\"alpha\", 0.5)\n",
    "    mlflow.log_param(\"l1_ratio\", 0.1)\n",
    "    mlflow.log_param(\"random_state\", 42)\n",
    "    mlflow.log_param(\"n_jobs\", -1)\n"
   ]
  },
  {
   "cell_type": "code",
   "execution_count": 10,
   "metadata": {},
   "outputs": [],
   "source": [
    "with mlflow.start_run(\n",
    "    experiment_id=experiment_id,\n",
    "    tags={\n",
    "        \"mlflow.runName\": \"multiple_log_param_runner\",\n",
    "        \"mlflow.source.name\": \"4-CoreLoggingFunctions.ipynb\",\n",
    "        \"mlflow.source.type\": \"Project\",\n",
    "        \"mlflow.user\": \"alekzandev\",\n",
    "        \"mlflow.source.git.commit\": \"b2e6d7d3688136b4009fc51882492d25be438e8c\",\n",
    "        \"mlflow.source.git.branch\": \"develop\",\n",
    "    }\n",
    "    ):\n",
    "    mlflow.log_params({\n",
    "        \"alpha\": 0.5,\n",
    "        \"l1_ratio\": 0.1,\n",
    "        \"random_state\": 42,\n",
    "        \"n_jobs\": -1\n",
    "    })"
   ]
  },
  {
   "cell_type": "code",
   "execution_count": 12,
   "metadata": {},
   "outputs": [],
   "source": [
    "with mlflow.start_run(\n",
    "    experiment_id=experiment_id,\n",
    "    tags={\n",
    "        \"mlflow.runName\": \"single_log_artifact_runner\",\n",
    "        \"mlflow.source.name\": \"4-CoreLoggingFunctions.ipynb\",\n",
    "        \"mlflow.source.type\": \"Project\",\n",
    "        \"mlflow.user\": \"alekzandev\",\n",
    "        \"mlflow.source.git.commit\": \"b2e6d7d3688136b4009fc51882492d25be438e8c\",\n",
    "        \"mlflow.source.git.branch\": \"develop\",\n",
    "    }\n",
    "    ):\n",
    "    mlflow.log_artifact(\"4-CoreLoggingFunctions.ipynb\")"
   ]
  },
  {
   "cell_type": "code",
   "execution_count": 8,
   "metadata": {},
   "outputs": [],
   "source": [
    "with mlflow.start_run(\n",
    "    experiment_id=experiment_id,\n",
    "    tags={\n",
    "        \"mlflow.runName\": \"multiple_log_artifact_runner\",\n",
    "        \"mlflow.source.name\": \"4-CoreLoggingFunctions.ipynb\",\n",
    "        \"mlflow.source.type\": \"Project\",\n",
    "        \"mlflow.user\": \"alekzandev\",\n",
    "        \"mlflow.source.git.commit\": \"b2e6d7d3688136b4009fc51882492d25be438e8c\",\n",
    "        \"mlflow.source.git.branch\": \"develop\",\n",
    "    }\n",
    "    ):\n",
    "    mlflow.log_artifacts(\n",
    "        local_dir=\"../notebooks\",\n",
    "        artifact_path=\"nb\"\n",
    "        )\n",
    "    mlflow.set_tag(\"company.name\", \"Nequi\")\n",
    "    mlflow.set_tags(\n",
    "        {\n",
    "            \"release.version\": \"0.0.1\",\n",
    "            \"release.stage\": \"alpha\",\n",
    "            \"release.node\": \"core_logging_functions\"\n",
    "        }\n",
    "    )"
   ]
  },
  {
   "cell_type": "code",
   "execution_count": null,
   "metadata": {},
   "outputs": [],
   "source": []
  }
 ],
 "metadata": {
  "kernelspec": {
   "display_name": "mlflow-101-iqm-IqnF-py3.10",
   "language": "python",
   "name": "python3"
  },
  "language_info": {
   "codemirror_mode": {
    "name": "ipython",
    "version": 3
   },
   "file_extension": ".py",
   "mimetype": "text/x-python",
   "name": "python",
   "nbconvert_exporter": "python",
   "pygments_lexer": "ipython3",
   "version": "3.10.0"
  }
 },
 "nbformat": 4,
 "nbformat_minor": 2
}
