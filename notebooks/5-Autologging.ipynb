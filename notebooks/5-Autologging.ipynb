{
 "cells": [
  {
   "cell_type": "markdown",
   "metadata": {},
   "source": [
    "# MLflow fundamentals\n",
    "\n",
    "## Autologging\n",
    "\n",
    "**Author:** Alekzandev\n",
    "\n",
    "Auto-logging is a feature that automatically logs the parameters and metrics of your model. This feature is available for the following libraries: `scikit-learn`, `XGBoost`, `LightGBM`, `PyTorch`, `Keras`, `TensorFlow`, `fast.ai`, `statsmodels`, and `gluon`.\n"
   ]
  },
  {
   "cell_type": "markdown",
   "metadata": {},
   "source": [
    "### `mlflow.autolog()`"
   ]
  },
  {
   "cell_type": "code",
   "execution_count": 1,
   "metadata": {},
   "outputs": [],
   "source": [
    "import mlflow"
   ]
  },
  {
   "cell_type": "code",
   "execution_count": 23,
   "metadata": {},
   "outputs": [],
   "source": [
    "mlflow.set_tracking_uri(\"../experiments\")\n",
    "experiment_name = 'core_logging_functions'\n",
    "\n",
    "experiment_id = mlflow.create_experiment(\n",
    "    name=experiment_name,\n",
    "    tags={\n",
    "        \"mlflow.source.name\": \"autolog_functions\",\n",
    "        \"mlflow.source.type\": \"NOTEBOOK\",\n",
    "        \"mlflow.user\": \"alekzandev\",\n",
    "        \"team.name\": \"MLOps\",\n",
    "        \"team.department\": \"EAeIA\",\n",
    "        \"team.project\": \"MLFlow-101\",\n",
    "        \"team.organization\": \"Nequi\",\n",
    "        \"team.country\": \"CO\"\n",
    "    },\n",
    "    artifact_location=\"file:/Users/javallejos/projects/mlflow-101/models/artifacts/mlflow\"\n",
    ")"
   ]
  },
  {
   "cell_type": "code",
   "execution_count": 4,
   "metadata": {},
   "outputs": [],
   "source": [
    "# Train a linear regression model using data from the diabetes dataset\n",
    "from sklearn import datasets\n",
    "from sklearn.linear_model import LinearRegression\n",
    "from sklearn.metrics import mean_squared_error\n",
    "from sklearn.model_selection import train_test_split\n",
    "import numpy\n",
    "import pandas\n",
    "import mlflow.sklearn"
   ]
  },
  {
   "cell_type": "code",
   "execution_count": 7,
   "metadata": {},
   "outputs": [],
   "source": [
    "# Load the diabetes dataset\n",
    "diabetes = datasets.load_diabetes()\n",
    "X = diabetes.data\n",
    "y = diabetes.target\n"
   ]
  },
  {
   "cell_type": "code",
   "execution_count": 24,
   "metadata": {},
   "outputs": [],
   "source": [
    "with mlflow.start_run(\n",
    "    experiment_id=experiment_id,\n",
    "    tags={\n",
    "        \"mlflow.runName\": \"autolog_runner\",\n",
    "        \"mlflow.source.name\": \"4-Autologging.ipynb\",\n",
    "        \"mlflow.source.type\": \"Project\",\n",
    "        \"mlflow.user\": \"alekzandev\",\n",
    "        \"mlflow.source.git.branch\": \"develop\"\n",
    "    }\n",
    "    ):\n",
    "    mlflow.autolog(\n",
    "        log_input_examples=True\n",
    "    )\n",
    "    random_state = 42\n",
    "    # Split the data into training and test sets. (0.75, 0.25) split.\n",
    "    X_train, X_test, y_train, y_test = train_test_split(X, y, random_state=random_state)\n",
    "\n",
    "    # Train a linear regression model\n",
    "    model = LinearRegression()\n",
    "    model.fit(X_train, y_train)\n",
    "\n",
    "    # Make predictions\n",
    "    predicted_qualities = model.predict(X_test)\n",
    "\n",
    "    # Evaluate the model\n",
    "    mse = mean_squared_error(y_test, predicted_qualities)\n",
    "    mae = numpy.mean(numpy.abs(y_test - predicted_qualities))\n",
    "    r2 = model.score(X_test, y_test)\n"
   ]
  },
  {
   "cell_type": "code",
   "execution_count": null,
   "metadata": {},
   "outputs": [
    {
     "name": "stdout",
     "output_type": "stream",
     "text": [
      "[2024-11-04 00:54:27 -0500] [16888] [INFO] Starting gunicorn 23.0.0\n",
      "[2024-11-04 00:54:27 -0500] [16888] [INFO] Listening at: http://127.0.0.1:5000 (16888)\n",
      "[2024-11-04 00:54:27 -0500] [16888] [INFO] Using worker: sync\n",
      "[2024-11-04 00:54:27 -0500] [16889] [INFO] Booting worker with pid: 16889\n",
      "[2024-11-04 00:54:27 -0500] [16890] [INFO] Booting worker with pid: 16890\n",
      "[2024-11-04 00:54:27 -0500] [16891] [INFO] Booting worker with pid: 16891\n",
      "[2024-11-04 00:54:27 -0500] [16892] [INFO] Booting worker with pid: 16892\n",
      "^C\n",
      "[2024-11-04 00:54:49 -0500] [16888] [INFO] Handling signal: int\n",
      "[2024-11-04 00:54:49 -0500] [16890] [INFO] Worker exiting (pid: 16890)\n",
      "[2024-11-04 00:54:49 -0500] [16891] [INFO] Worker exiting (pid: 16891)\n",
      "[2024-11-04 00:54:49 -0500] [16892] [INFO] Worker exiting (pid: 16892)\n",
      "[2024-11-04 00:54:49 -0500] [16889] [INFO] Worker exiting (pid: 16889)\n"
     ]
    }
   ],
   "source": [
    "#! mlflow ui --backend-store-uri \"file:/Users/javallejos/projects/mlflow-101/experiments\""
   ]
  },
  {
   "cell_type": "markdown",
   "metadata": {},
   "source": [
    "### `mlflow.<library>.autolog()`"
   ]
  },
  {
   "cell_type": "code",
   "execution_count": 26,
   "metadata": {},
   "outputs": [],
   "source": [
    "experiment_name = 'autolog_library_functions'\n",
    "\n",
    "experiment_id = mlflow.create_experiment(\n",
    "    name=experiment_name,\n",
    "    tags={\n",
    "        \"mlflow.source.name\": \"core_logging_functions\",\n",
    "        \"mlflow.source.type\": \"NOTEBOOK\",\n",
    "        \"mlflow.user\": \"alekzandev\",\n",
    "        \"team.name\": \"MLOps\",\n",
    "        \"team.department\": \"EAeIA\",\n",
    "        \"team.project\": \"MLFlow-101\",\n",
    "        \"team.organization\": \"Nequi\",\n",
    "        \"team.country\": \"CO\"\n",
    "    },\n",
    "    artifact_location=\"file:/Users/javallejos/projects/mlflow-101/models/artifacts/mlflow\"\n",
    ")"
   ]
  },
  {
   "cell_type": "code",
   "execution_count": 27,
   "metadata": {},
   "outputs": [],
   "source": [
    "with mlflow.start_run(\n",
    "    experiment_id=experiment_id,\n",
    "    tags={\n",
    "        \"mlflow.runName\": \"autolog_runner\",\n",
    "        \"mlflow.source.name\": \"4-Autologging.ipynb\",\n",
    "        \"mlflow.source.type\": \"Project\",\n",
    "        \"mlflow.user\": \"alekzandev\",\n",
    "        \"mlflow.source.git.branch\": \"develop\"\n",
    "    }\n",
    "    ):\n",
    "    mlflow.sklearn.autolog(\n",
    "        log_post_training_metrics = True,\n",
    "        serialization_format='pickle'\n",
    "    )\n",
    "    random_state = 42\n",
    "    # Split the data into training and test sets. (0.75, 0.25) split.\n",
    "    X_train, X_test, y_train, y_test = train_test_split(X, y, random_state=random_state)\n",
    "\n",
    "    # Train a linear regression model\n",
    "    model = LinearRegression()\n",
    "    model.fit(X_train, y_train)\n",
    "\n",
    "    # Make predictions\n",
    "    predicted_qualities = model.predict(X_test)\n",
    "\n",
    "    # Evaluate the model\n",
    "    mse = mean_squared_error(y_test, predicted_qualities)\n",
    "    mae = numpy.mean(numpy.abs(y_test - predicted_qualities))\n",
    "    r2 = model.score(X_test, y_test)\n"
   ]
  },
  {
   "cell_type": "code",
   "execution_count": 1,
   "metadata": {},
   "outputs": [
    {
     "name": "stdout",
     "output_type": "stream",
     "text": [
      "[2024-11-04 00:56:12 -0500] [17017] [INFO] Starting gunicorn 23.0.0\n",
      "[2024-11-04 00:56:12 -0500] [17017] [INFO] Listening at: http://127.0.0.1:5000 (17017)\n",
      "[2024-11-04 00:56:12 -0500] [17017] [INFO] Using worker: sync\n",
      "[2024-11-04 00:56:12 -0500] [17018] [INFO] Booting worker with pid: 17018\n",
      "[2024-11-04 00:56:12 -0500] [17019] [INFO] Booting worker with pid: 17019\n",
      "[2024-11-04 00:56:12 -0500] [17020] [INFO] Booting worker with pid: 17020\n",
      "[2024-11-04 00:56:12 -0500] [17021] [INFO] Booting worker with pid: 17021\n",
      "^C\n",
      "[2024-11-04 00:56:28 -0500] [17017] [INFO] Handling signal: int\n",
      "[2024-11-04 00:56:29 -0500] [17021] [INFO] Worker exiting (pid: 17021)\n",
      "[2024-11-04 00:56:29 -0500] [17020] [INFO] Worker exiting (pid: 17020)\n",
      "[2024-11-04 00:56:29 -0500] [17018] [INFO] Worker exiting (pid: 17018)\n",
      "[2024-11-04 00:56:29 -0500] [17019] [INFO] Worker exiting (pid: 17019)\n"
     ]
    }
   ],
   "source": [
    "! mlflow ui --backend-store-uri \"file:/Users/javallejos/projects/mlflow-101/experiments\""
   ]
  },
  {
   "cell_type": "code",
   "execution_count": null,
   "metadata": {},
   "outputs": [],
   "source": []
  }
 ],
 "metadata": {
  "kernelspec": {
   "display_name": "mlflow-101-iqm-IqnF-py3.10",
   "language": "python",
   "name": "python3"
  },
  "language_info": {
   "codemirror_mode": {
    "name": "ipython",
    "version": 3
   },
   "file_extension": ".py",
   "mimetype": "text/x-python",
   "name": "python",
   "nbconvert_exporter": "python",
   "pygments_lexer": "ipython3",
   "version": "3.10.0"
  }
 },
 "nbformat": 4,
 "nbformat_minor": 2
}
