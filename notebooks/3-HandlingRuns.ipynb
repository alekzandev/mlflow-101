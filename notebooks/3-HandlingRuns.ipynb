{
 "cells": [
  {
   "cell_type": "markdown",
   "metadata": {},
   "source": [
    "# MLflow fundamentals\n",
    "\n",
    "## Handling Runs\n",
    "\n",
    "**Author:** Alekzandev\n",
    "\n",
    "- `mlflow.start_run()`: Start a new MLflow run in an experiment.\n",
    "- `mlflow.end_run()`:  Finish a run xperiment.\n",
    "- `mlflow.active_run()` Returns the run which is **currently active now**.\n",
    "- `mlflow.last_active_run()`: Gets the **most recent active** run.\n"
   ]
  },
  {
   "cell_type": "markdown",
   "metadata": {},
   "source": [
    "### `mlflow.start_run()`"
   ]
  },
  {
   "cell_type": "code",
   "execution_count": 1,
   "metadata": {},
   "outputs": [],
   "source": [
    "import mlflow"
   ]
  },
  {
   "cell_type": "code",
   "execution_count": 8,
   "metadata": {},
   "outputs": [],
   "source": [
    "mlflow.set_tracking_uri('../experiments')\n",
    "experiment_id = '162372848292736438'\n",
    "run_id = '2acad7b6b750408598ca2e0166fe2b03'"
   ]
  },
  {
   "cell_type": "code",
   "execution_count": 19,
   "metadata": {},
   "outputs": [],
   "source": [
    "with mlflow.start_run(\n",
    "    run_id=run_id,\n",
    "    nested=False,\n",
    "    tags={\n",
    "        \"mlflow.runName\": \"my_run_name\",\n",
    "        \"mlflow.source.name\": \"my_source_name\",\n",
    "        \"mlflow.source.type\": \"LOCAL\",\n",
    "        \"mlflow.user\": \"alekzandev\",\n",
    "        \"mlflow.source.git.commit\": \"b2e6d7d3688136b4009fc51882492d25be438e8c\",\n",
    "        \"mlflow.source.git.branch\": \"develop\",\n",
    "    },\n",
    "    description=\"\"\"\n",
    "    This run is for test my hipotesis about the best way to use MLflow\n",
    "    \"\"\"\n",
    "    ):\n",
    "    mlflow.log_param(\"my_param\", 1)\n",
    "    mlflow.log_metric(\"my_metric\", 2)\n",
    "    mlflow.log_artifact(\"1-IntroMLflow.ipynb\")"
   ]
  },
  {
   "cell_type": "code",
   "execution_count": null,
   "metadata": {},
   "outputs": [],
   "source": [
    "with mlflow.start_run(\n",
    "    run_id=run_id,\n",
    "    nested=True,\n",
    "    parent_run_id='2df586d11ebf4992a331c1866f45f5e2',\n",
    "    tags={\n",
    "        \"mlflow.runName\": \"el-kink-runner\",\n",
    "        \"mlflow.source.name\": \"HandlingRuns.ipynb\",\n",
    "        \"mlflow.source.type\": \"Project\",\n",
    "        \"mlflow.user\": \"alekzandev\",\n",
    "        \"mlflow.source.git.commit\": \"b2e6d7d3688136b4009fc51882492d25be438e8c\",\n",
    "        \"mlflow.source.git.branch\": \"develop\",\n",
    "    },\n",
    "    description=\"\"\"\n",
    "    This run is for test my hipotesis about the best way to use MLflow\n",
    "    \"\"\"\n",
    "    ):\n",
    "    mlflow.log_param(\"my_param\", 1)\n",
    "    mlflow.log_metric(\"my_metric\", 2)\n",
    "    mlflow.log_artifact(\"1-IntroMLflow.ipynb\")"
   ]
  },
  {
   "cell_type": "code",
   "execution_count": 16,
   "metadata": {},
   "outputs": [],
   "source": [
    "with mlflow.start_run(\n",
    "    experiment_id=experiment_id\n",
    "    ):\n",
    "    mlflow.log_param(\"my_param\", -1)\n",
    "    mlflow.log_metric(\"my_metric\", 20)\n",
    "    mlflow.log_artifact(\"1-IntroMLflow.ipynb\")"
   ]
  },
  {
   "cell_type": "code",
   "execution_count": 17,
   "metadata": {},
   "outputs": [
    {
     "name": "stdout",
     "output_type": "stream",
     "text": [
      "Help on function start_run in module mlflow.tracking.fluent:\n",
      "\n",
      "start_run(run_id: Optional[str] = None, experiment_id: Optional[str] = None, run_name: Optional[str] = None, nested: bool = False, parent_run_id: Optional[str] = None, tags: Optional[Dict[str, Any]] = None, description: Optional[str] = None, log_system_metrics: Optional[bool] = None) -> mlflow.tracking.fluent.ActiveRun\n",
      "    Start a new MLflow run, setting it as the active run under which metrics and parameters\n",
      "    will be logged. The return value can be used as a context manager within a ``with`` block;\n",
      "    otherwise, you must call ``end_run()`` to terminate the current run.\n",
      "    \n",
      "    If you pass a ``run_id`` or the ``MLFLOW_RUN_ID`` environment variable is set,\n",
      "    ``start_run`` attempts to resume a run with the specified run ID and\n",
      "    other parameters are ignored. ``run_id`` takes precedence over ``MLFLOW_RUN_ID``.\n",
      "    \n",
      "    If resuming an existing run, the run status is set to ``RunStatus.RUNNING``.\n",
      "    \n",
      "    MLflow sets a variety of default tags on the run, as defined in\n",
      "    :ref:`MLflow system tags <system_tags>`.\n",
      "    \n",
      "    Args:\n",
      "        run_id: If specified, get the run with the specified UUID and log parameters\n",
      "            and metrics under that run. The run's end time is unset and its status\n",
      "            is set to running, but the run's other attributes (``source_version``,\n",
      "            ``source_type``, etc.) are not changed.\n",
      "        experiment_id: ID of the experiment under which to create the current run (applicable\n",
      "            only when ``run_id`` is not specified). If ``experiment_id`` argument\n",
      "            is unspecified, will look for valid experiment in the following order:\n",
      "            activated using ``set_experiment``, ``MLFLOW_EXPERIMENT_NAME``\n",
      "            environment variable, ``MLFLOW_EXPERIMENT_ID`` environment variable,\n",
      "            or the default experiment as defined by the tracking server.\n",
      "        run_name: Name of new run. Used only when ``run_id`` is unspecified. If a new run is\n",
      "            created and ``run_name`` is not specified, a random name will be generated for the run.\n",
      "        nested: Controls whether run is nested in parent run. ``True`` creates a nested run.\n",
      "        parent_run_id: If specified, the current run will be nested under the the run with\n",
      "            the specified UUID. The parent run must be in the ACTIVE state.\n",
      "        tags: An optional dictionary of string keys and values to set as tags on the run.\n",
      "            If a run is being resumed, these tags are set on the resumed run. If a new run is\n",
      "            being created, these tags are set on the new run.\n",
      "        description: An optional string that populates the description box of the run.\n",
      "            If a run is being resumed, the description is set on the resumed run.\n",
      "            If a new run is being created, the description is set on the new run.\n",
      "        log_system_metrics: bool, defaults to None. If True, system metrics will be logged\n",
      "            to MLflow, e.g., cpu/gpu utilization. If None, we will check environment variable\n",
      "            `MLFLOW_ENABLE_SYSTEM_METRICS_LOGGING` to determine whether to log system metrics.\n",
      "            System metrics logging is an experimental feature in MLflow 2.8 and subject to change.\n",
      "    \n",
      "    Returns:\n",
      "        :py:class:`mlflow.ActiveRun` object that acts as a context manager wrapping the\n",
      "        run's state.\n",
      "    \n",
      "    .. code-block:: python\n",
      "        :test:\n",
      "        :caption: Example\n",
      "    \n",
      "        import mlflow\n",
      "    \n",
      "        # Create nested runs\n",
      "        experiment_id = mlflow.create_experiment(\"experiment1\")\n",
      "        with mlflow.start_run(\n",
      "            run_name=\"PARENT_RUN\",\n",
      "            experiment_id=experiment_id,\n",
      "            tags={\"version\": \"v1\", \"priority\": \"P1\"},\n",
      "            description=\"parent\",\n",
      "        ) as parent_run:\n",
      "            mlflow.log_param(\"parent\", \"yes\")\n",
      "            with mlflow.start_run(\n",
      "                run_name=\"CHILD_RUN\",\n",
      "                experiment_id=experiment_id,\n",
      "                description=\"child\",\n",
      "                nested=True,\n",
      "            ) as child_run:\n",
      "                mlflow.log_param(\"child\", \"yes\")\n",
      "        print(\"parent run:\")\n",
      "        print(f\"run_id: {parent_run.info.run_id}\")\n",
      "        print(\"description: {}\".format(parent_run.data.tags.get(\"mlflow.note.content\")))\n",
      "        print(\"version tag value: {}\".format(parent_run.data.tags.get(\"version\")))\n",
      "        print(\"priority tag value: {}\".format(parent_run.data.tags.get(\"priority\")))\n",
      "        print(\"--\")\n",
      "    \n",
      "        # Search all child runs with a parent id\n",
      "        query = f\"tags.mlflow.parentRunId = '{parent_run.info.run_id}'\"\n",
      "        results = mlflow.search_runs(experiment_ids=[experiment_id], filter_string=query)\n",
      "        print(\"child runs:\")\n",
      "        print(results[[\"run_id\", \"params.child\", \"tags.mlflow.runName\"]])\n",
      "    \n",
      "        # Create a nested run under the existing parent run\n",
      "        with mlflow.start_run(\n",
      "            run_name=\"NEW_CHILD_RUN\",\n",
      "            experiment_id=experiment_id,\n",
      "            description=\"new child\",\n",
      "            parent_run_id=parent_run.info.run_id,\n",
      "        ) as child_run:\n",
      "            mlflow.log_param(\"new-child\", \"yes\")\n",
      "    \n",
      "    .. code-block:: text\n",
      "        :caption: Output\n",
      "    \n",
      "        parent run:\n",
      "        run_id: 8979459433a24a52ab3be87a229a9cdf\n",
      "        description: starting a parent for experiment 7\n",
      "        version tag value: v1\n",
      "        priority tag value: P1\n",
      "        --\n",
      "        child runs:\n",
      "                                     run_id params.child tags.mlflow.runName\n",
      "        0  7d175204675e40328e46d9a6a5a7ee6a          yes           CHILD_RUN\n",
      "\n"
     ]
    }
   ],
   "source": [
    "help(mlflow.start_run)"
   ]
  },
  {
   "cell_type": "markdown",
   "metadata": {},
   "source": []
  }
 ],
 "metadata": {
  "kernelspec": {
   "display_name": "mlflow-101-iqm-IqnF-py3.10",
   "language": "python",
   "name": "python3"
  },
  "language_info": {
   "codemirror_mode": {
    "name": "ipython",
    "version": 3
   },
   "file_extension": ".py",
   "mimetype": "text/x-python",
   "name": "python",
   "nbconvert_exporter": "python",
   "pygments_lexer": "ipython3",
   "version": "3.10.0"
  }
 },
 "nbformat": 4,
 "nbformat_minor": 2
}
